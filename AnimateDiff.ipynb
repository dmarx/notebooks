{
  "nbformat": 4,
  "nbformat_minor": 0,
  "metadata": {
    "colab": {
      "private_outputs": true,
      "provenance": [],
      "machine_shape": "hm",
      "gpuType": "A100",
      "authorship_tag": "ABX9TyN8lFugNu+vxInQ5Y+qe+x9",
      "include_colab_link": true
    },
    "kernelspec": {
      "name": "python3",
      "display_name": "Python 3"
    },
    "language_info": {
      "name": "python"
    },
    "accelerator": "GPU"
  },
  "cells": [
    {
      "cell_type": "markdown",
      "metadata": {
        "id": "view-in-github",
        "colab_type": "text"
      },
      "source": [
        "<a href=\"https://colab.research.google.com/github/dmarx/notebooks/blob/animate_diff/AnimateDiff.ipynb\" target=\"_parent\"><img src=\"https://colab.research.google.com/assets/colab-badge.svg\" alt=\"Open In Colab\"/></a>"
      ]
    },
    {
      "cell_type": "code",
      "execution_count": null,
      "metadata": {
        "id": "Z5R8KaG34V7h"
      },
      "outputs": [],
      "source": [
        "!git clone -b dev https://github.com/camenduru/animatediff\n",
        "!pip install einops omegaconf safetensors diffusers[torch]==0.11.1 transformers\n",
        "!apt -y install -qq aria2\n",
        "!rm -rf /content/animatediff/models/StableDiffusion\n",
        "!git clone -b fp16 https://huggingface.co/runwayml/stable-diffusion-v1-5 /content/animatediff/models/StableDiffusion/\n",
        "!aria2c --console-log-level=error -c -x 16 -s 16 -k 1M https://huggingface.co/camenduru/AnimateDiff/resolve/main/mm_sd_v14.ckpt -d /content/animatediff/models/Motion_Module -o mm_sd_v14.ckpt\n",
        "!aria2c --console-log-level=error -c -x 16 -s 16 -k 1M https://huggingface.co/camenduru/AnimateDiff/resolve/main/mm_sd_v15.ckpt -d /content/animatediff/models/Motion_Module -o mm_sd_v15.ckpt\n",
        "!aria2c --console-log-level=error -c -x 16 -s 16 -k 1M https://huggingface.co/camenduru/AnimateDiff/resolve/main/toonyou_beta3.safetensors -d /content/animatediff/models/DreamBooth_LoRA -o toonyou_beta3.safetensors\n"
      ]
    },
    {
      "cell_type": "code",
      "source": [
        "!cd /content/animatediff; python -m scripts.animate --config /content/animatediff/configs/prompts/1-ToonYou.yaml --pretrained_model_path /content/animatediff/models/StableDiffusion --L 16 --W 256 --H 256"
      ],
      "metadata": {
        "id": "3Y7B8Wqq5_Gr"
      },
      "execution_count": null,
      "outputs": []
    },
    {
      "cell_type": "code",
      "source": [
        "!cd /content/animatediff; python -m scripts.animate --help"
      ],
      "metadata": {
        "id": "YzjAqBF57qNu"
      },
      "execution_count": null,
      "outputs": []
    },
    {
      "cell_type": "code",
      "source": [
        "#!pip install napm\n",
        "import napm\n",
        "napm.pseudoinstall_git_repo(\"https://github.com/guoyww/animatediff/\", package_name='animatediff', add_install_dir_to_path=True)"
      ],
      "metadata": {
        "id": "NPe_GLoE-t0y"
      },
      "execution_count": null,
      "outputs": []
    },
    {
      "cell_type": "code",
      "source": [
        "import animatediff.scripts.animate\n",
        "\n"
      ],
      "metadata": {
        "id": "btEIWXWO8Wc2"
      },
      "execution_count": null,
      "outputs": []
    }
  ]
}
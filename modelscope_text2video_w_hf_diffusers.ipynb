{
  "nbformat": 4,
  "nbformat_minor": 0,
  "metadata": {
    "colab": {
      "provenance": [],
      "machine_shape": "hm",
      "authorship_tag": "ABX9TyNJxxETiypHifjFgwbyH77+",
      "include_colab_link": true
    },
    "kernelspec": {
      "name": "python3",
      "display_name": "Python 3"
    },
    "language_info": {
      "name": "python"
    },
    "accelerator": "GPU",
    "gpuClass": "premium"
  },
  "cells": [
    {
      "cell_type": "markdown",
      "metadata": {
        "id": "view-in-github",
        "colab_type": "text"
      },
      "source": [
        "<a href=\"https://colab.research.google.com/github/dmarx/notebooks/blob/text2video-modelscope/modelscope_text2video_w_hf_diffusers.ipynb\" target=\"_parent\"><img src=\"https://colab.research.google.com/assets/colab-badge.svg\" alt=\"Open In Colab\"/></a>"
      ]
    },
    {
      "cell_type": "code",
      "source": [
        "!pip install transformers huggingface_hub accelerate\n",
        "!pip install git+https://github.com/huggingface/diffusers/"
      ],
      "metadata": {
        "id": "_6gmUNyxs2IA"
      },
      "execution_count": null,
      "outputs": []
    },
    {
      "cell_type": "code",
      "execution_count": null,
      "metadata": {
        "id": "_7rPBOousWQO"
      },
      "outputs": [],
      "source": [
        "# https://github.com/huggingface/diffusers/pull/2738\n",
        "\n",
        "# import torch\n",
        "# from diffusers import TextToVideoSDPipelineOutput, DPMSolverMultistepScheduler\n",
        "# from diffusers.utils import export_to_video\n",
        "\n",
        "# pipe = TextToVideoSDPipelineOutput.from_pretrained(\"diffusers/ms-text-to-video-sd\", torch_dtype=torch.float16)\n",
        "# pipe.scheduler = DPMSolverMultistepScheduler.from_config(pipe.scheduler.config)\n",
        "# pipe = pipe.to(\"cuda\")\n",
        "\n",
        "# prompt = \"Spiderman is surfing\"\n",
        "# video_frames = pipe(prompt).frames\n",
        "# video_path = export_to_video(video_frames)\n",
        "# print(video_path)"
      ]
    },
    {
      "cell_type": "code",
      "source": [
        "# https://github.com/huggingface/diffusers/pull/2738\n",
        "import torch\n",
        "from diffusers import DiffusionPipeline\n",
        "from diffusers.utils import export_to_video\n",
        "pipe = DiffusionPipeline.from_pretrained(\"damo-vilab/text-to-video-ms-1.7b\", torch_dtype=torch.float16, variant=\"fp16\")\n",
        "pipe = pipe.to(\"cuda\")\n",
        "prompt = \"Spiderman is surfing\"\n",
        "video_frames = pipe(prompt).frames\n",
        "video_path = export_to_video(video_frames)\n",
        "video_path"
      ],
      "metadata": {
        "id": "M4CQY6ghuTHp"
      },
      "execution_count": null,
      "outputs": []
    },
    {
      "cell_type": "code",
      "source": [
        "from IPython.display import HTML\n",
        "from base64 import b64encode\n",
        "\n",
        "!cp {video_path} /content/tmp.mp4\n",
        "mp4 = open('/content/tmp.mp4','rb').read()\n",
        "\n",
        "decoded_vid = \"data:video/mp4;base64,\" + b64encode(mp4).decode()\n",
        "HTML(f'<video width=400 controls><source src=\"{decoded_vid}\" type=\"video/mp4\"></video>')"
      ],
      "metadata": {
        "id": "n1JsncMZuw5X"
      },
      "execution_count": null,
      "outputs": []
    }
  ]
}